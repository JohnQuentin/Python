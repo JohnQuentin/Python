import pandas as pd
import plotly.graph_objects as go

df = pd.read_csv("CARS.csv")

fig = go.Figure()

fig.add_trace(go.Scatter(x = df["Horsepower"], y = df["Weight"],
                        mode = "markers"))

fig.show()


df["Color"] = "#2471A3"

fig = go.Figure()

fig.add_trace(go.Scatter(x = df["Horsepower"], y = df["Weight"],
                        mode = "markers",
                         marker = dict(color = df["Color"].tolist()[0]))) #only pass 1 element of the color variable to the color parameter

fig.update_layout(plot_bgcolor = "white",
                 font = dict(color = "#909497"),
                 title = dict(text = "Car Weight Against Horsepower"),
                 xaxis = dict(title = "Horsepower (hp)", linecolor = "#909497"),
                 yaxis = dict(title = "Weight (kgs)", tickformat = ",", linecolor = "#909497"))

fig.show()
